{
 "cells": [
  {
   "cell_type": "code",
   "execution_count": 1,
   "metadata": {},
   "outputs": [],
   "source": [
    "from IPython.core.interactiveshell import InteractiveShell\n",
    "InteractiveShell.ast_node_interactivity = 'all'"
   ]
  },
  {
   "cell_type": "code",
   "execution_count": 7,
   "metadata": {},
   "outputs": [],
   "source": [
    "from __future__ import division, print_function, unicode_literals\n",
    "\n",
    "# Common imports\n",
    "import numpy as np\n",
    "import os\n",
    "\n",
    "# to make this notebook's output stable across runs\n",
    "np.random.seed(42)\n",
    "\n",
    "# To plot pretty figures\n",
    "%matplotlib inline\n",
    "import matplotlib as mpl\n",
    "import matplotlib.pyplot as plt\n",
    "mpl.rc('axes', labelsize=14)\n",
    "mpl.rc('xtick', labelsize=12)\n",
    "mpl.rc('ytick', labelsize=12)\n",
    "\n",
    "# Where to save the figures\n",
    "PROJECT_ROOT_DIR = \".\"\n",
    "CHAPTER_ID = \"training_linear_models\"\n",
    "\n",
    "def save_fig(fig_id, tight_layout=True):\n",
    "    path = os.path.join(PROJECT_ROOT_DIR, \"imgs\", CHAPTER_ID, fig_id + \".png\")\n",
    "    print(\"Saving figure\", fig_id)\n",
    "    if tight_layout:\n",
    "        plt.tight_layout()\n",
    "    plt.savefig(path, format='png', dpi=300)\n",
    "\n",
    "# Ignore useless warnings (see SciPy issue #5998)\n",
    "import warnings\n",
    "warnings.filterwarnings(action=\"ignore\", message=\"^internal gelsd\")"
   ]
  },
  {
   "cell_type": "markdown",
   "metadata": {},
   "source": [
    "__机器学习模型__和__训练算法__\n",
    "\n",
    "本章讨论，机器学习模型的__理解__，__构建__，以及神经网络的__训练__"
   ]
  },
  {
   "cell_type": "markdown",
   "metadata": {},
   "source": [
    "首先，以一个简单的线性回归模型，讨论两种不同的训练方式，得到模型的最优解\n",
    "- 直接使用封闭方程进行求根运算，得到模型在当前训练集上的__最优参数__(即在训练集上使用损失函数达到最小的模型参数)\n",
    "- 使用迭代优化方法：梯度下降(GD),\n",
    " - 在训练集上，逐渐调整模型参数以获得最小的损失函数，最终，参数会收敛到和第一种方法相同的值\n",
    " - 介绍一些梯度下降的变体形式：批量梯度下降(Bath GD)、小批量梯度下降(Mini-batch GD)、随机梯度下降(Stochastic GD)\n",
    "\n",
    "接下来，研究更复杂的模型：多项式回归，它可以拟合非线性数据集\n",
    "- 由于它比线性模型拥有__更多的参数__，于是它更容易出现模型的__过拟合__\n",
    "- 因此，我将介绍如何通过__学习曲线__去判断模型是否出现过拟合\n",
    "- 并介绍几种__正则化__方法以减少出现过拟合的风险\n",
    "\n",
    "最后，将介绍两个常用于分类的模型：Logistic回归和Softmax回归"
   ]
  },
  {
   "cell_type": "markdown",
   "metadata": {},
   "source": [
    "## 线性回归\n",
    "一个简单的回归模型：$life\\_satisfaction=\\theta_0+\\theta_1*GDP\\_per\\_capita$，该模型公公是输入量`GDP_per_capita`的线性函数，$\\theta_0$和$\\theta_1$是这个模型的参数\n",
    "\n",
    "线性模型更一般化的描述指，通过计算__输入变量__的__加权和__，并加上一个__常数偏置__(截距项)来得到一个预测值。\n",
    "\n",
    "如公式4-1：线性回归预测模型：$$\\hat{y}=\\theta_0+\\theta_1*x_1+\\theta_2*x_2+...+\\theta_n*x_n$$\n",
    "- $\\hat{y}$表示预测结果\n",
    "- $n$表示特征的个数\n",
    "- $x_i$表示系`i`个特征的值\n",
    "- $\\theta_j$表示第`j`个参数(包括偏置项$\\theta_{0}$和特征权重值$\\theta_{1},\\theta_{2},...\\theta_{n}$)"
   ]
  },
  {
   "cell_type": "markdown",
   "metadata": {},
   "source": [
    "怎样去训练一个线性回归模型？\n",
    "- 训练一个模型指的是__设置模型的参数__，使得这个模型在训练集的表现较好\n",
    " - 首先，需要找到一个__衡量模型好坏的评定方法__，最常见的评定标准是__均方根误差(RMSE)__\n",
    " - 其次，找到一个$\\theta$值，使得__均方根误差达到最小值__\n",
    " - 其实__均方误差__与__均方根误差__的$\\theta$值相同，而且__最小化均方误差__比__最小化均方根误差__更简单\n"
   ]
  },
  {
   "cell_type": "code",
   "execution_count": 9,
   "metadata": {},
   "outputs": [
    {
     "data": {
      "text/plain": [
       "(100, 1)"
      ]
     },
     "execution_count": 9,
     "metadata": {},
     "output_type": "execute_result"
    },
    {
     "data": {
      "text/plain": [
       "(100, 1)"
      ]
     },
     "execution_count": 9,
     "metadata": {},
     "output_type": "execute_result"
    }
   ],
   "source": [
    "import numpy as np \n",
    "X=2*np.random.rand(100,1) \n",
    "X.shape\n",
    "y=4+3*X+np.random.rand(100,1)\n",
    "y.shape"
   ]
  },
  {
   "cell_type": "code",
   "execution_count": 8,
   "metadata": {},
   "outputs": [
    {
     "data": {
      "text/plain": [
       "[<matplotlib.lines.Line2D at 0x216a0d01320>]"
      ]
     },
     "execution_count": 8,
     "metadata": {},
     "output_type": "execute_result"
    },
    {
     "data": {
      "text/plain": [
       "Text(0.5, 0, '$x_1$')"
      ]
     },
     "execution_count": 8,
     "metadata": {},
     "output_type": "execute_result"
    },
    {
     "data": {
      "text/plain": [
       "Text(0, 0.5, '$y$')"
      ]
     },
     "execution_count": 8,
     "metadata": {},
     "output_type": "execute_result"
    },
    {
     "data": {
      "text/plain": [
       "[0, 2, 0, 15]"
      ]
     },
     "execution_count": 8,
     "metadata": {},
     "output_type": "execute_result"
    },
    {
     "name": "stdout",
     "output_type": "stream",
     "text": [
      "Saving figure generated_data_plot\n"
     ]
    },
    {
     "data": {
      "image/png": "[encoded data removed]",
      "text/plain": [
       "<Figure size 432x288 with 1 Axes>"
      ]
     },
     "metadata": {
      "needs_background": "light"
     },
     "output_type": "display_data"
    }
   ],
   "source": [
    "plt.plot(X, y, \"b.\")\n",
    "plt.xlabel(\"$x_1$\", fontsize=18)\n",
    "plt.ylabel(\"$y$\", rotation=0, fontsize=18)\n",
    "plt.axis([0, 2, 0, 15])\n",
    "save_fig(\"generated_data_plot\")\n",
    "plt.show()"
   ]
  },
  {
   "cell_type": "code",
   "execution_count": 35,
   "metadata": {},
   "outputs": [
    {
     "data": {
      "text/plain": [
       "(3, 2)"
      ]
     },
     "execution_count": 35,
     "metadata": {},
     "output_type": "execute_result"
    },
    {
     "data": {
      "text/plain": [
       "(3,)"
      ]
     },
     "execution_count": 35,
     "metadata": {},
     "output_type": "execute_result"
    },
    {
     "data": {
      "text/plain": [
       "array([1, 2, 3, 4, 5, 6, 1, 2, 3])"
      ]
     },
     "execution_count": 35,
     "metadata": {},
     "output_type": "execute_result"
    },
    {
     "data": {
      "text/plain": [
       "(9,)"
      ]
     },
     "execution_count": 35,
     "metadata": {},
     "output_type": "execute_result"
    },
    {
     "name": "stdout",
     "output_type": "stream",
     "text": [
      "d==> [[1 4 1 4]\n",
      " [2 5 2 5]\n",
      " [3 6 3 6]]\n",
      "dshape==> (3, 4)\n"
     ]
    },
    {
     "data": {
      "text/plain": [
       "array([[1, 4, 1, 4, 1, 4],\n",
       "       [2, 5, 2, 5, 2, 5],\n",
       "       [3, 6, 3, 6, 3, 6]])"
      ]
     },
     "execution_count": 35,
     "metadata": {},
     "output_type": "execute_result"
    },
    {
     "data": {
      "text/plain": [
       "(3, 4)"
      ]
     },
     "execution_count": 35,
     "metadata": {},
     "output_type": "execute_result"
    }
   ],
   "source": [
    "import numpy as np\n",
    "\n",
    "# 将数据按照一定的格式合并\n",
    "# np.r_ 第二维长度相同下，第一维长度相加，即两矩阵上下相加，\n",
    "# np.c_ 第一维长度相同下，第二维长度相加，即两矩阵左右相加\n",
    "a = np.array([1, 2, 3])\n",
    "b = np.array([4, 5, 6])\n",
    "c=np.c_[a,b]\n",
    "c.shape\n",
    "a.shape\n",
    "\n",
    "r=np.r_[a,b,a]\n",
    "r\n",
    "r.shape\n",
    "\n",
    "\n",
    "d =np.c_[a,b,a,b]\n",
    "print(\"d==>\",d)\n",
    "print(\"dshape==>\",d.shape)\n",
    "\n",
    "c_cd=np.c_[c,d]\n",
    "c_cd\n",
    "\n",
    "c_ca=np.c_[c,a]\n",
    "c_ca = np.c_[c_ca,a]\n",
    "c_ca.shape"
   ]
  },
  {
   "cell_type": "code",
   "execution_count": null,
   "metadata": {},
   "outputs": [],
   "source": []
  }
 ],
 "metadata": {
  "kernelspec": {
   "display_name": "Python 3",
   "language": "python",
   "name": "python3"
  },
  "language_info": {
   "codemirror_mode": {
    "name": "ipython",
    "version": 3
   },
   "file_extension": ".py",
   "mimetype": "text/x-python",
   "name": "python",
   "nbconvert_exporter": "python",
   "pygments_lexer": "ipython3",
   "version": "3.6.7"
  }
 },
 "nbformat": 4,
 "nbformat_minor": 2
}
